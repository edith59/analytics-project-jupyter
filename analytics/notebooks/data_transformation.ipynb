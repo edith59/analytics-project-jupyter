{
 "cells": [
  {
   "cell_type": "markdown",
   "id": "2d017620",
   "metadata": {},
   "source": [
    "# Data transformation of ml_latest_small data set"
   ]
  },
  {
   "source": [
    "#### TODO:\n",
    "1. How many movies are in data set ?\n",
    "\n",
    "2. What is the most common genre of movie?\n",
    "\n",
    "3. What are top 10 movies with highest rate ?\n",
    "\n",
    "4. What are 5 most often rating users ?\n",
    "\n",
    "5. When was done first and last rate included in data set and what was the rated movie tittle?\n",
    "\n",
    "6. Find all movies released in 1990"
   ],
   "cell_type": "markdown",
   "metadata": {}
  },
  {
   "cell_type": "markdown",
   "id": "b9054218",
   "metadata": {},
   "source": [
    "Importing libraries"
   ]
  },
  {
   "cell_type": "code",
   "execution_count": 12,
   "id": "97617498",
   "metadata": {},
   "outputs": [],
   "source": [
    "import time\n",
    "from pandas import DataFrame\n",
    "from sqlalchemy import create_engine\n",
    "import pandas as pd"
   ]
  },
  {
   "cell_type": "markdown",
   "id": "a1454b53",
   "metadata": {},
   "source": [
    "Setting up connection to db"
   ]
  },
  {
   "cell_type": "code",
   "execution_count": 14,
   "id": "4cab3baa",
   "metadata": {},
   "outputs": [],
   "source": [
    "# Connect to the database\n",
    "db_name = 'database'\n",
    "db_user = 'username'\n",
    "db_pass = 'secret'\n",
    "db_host = 'db'\n",
    "db_port = '5432'\n",
    "\n",
    "db_string = 'postgresql://{}:{}@{}:{}/{}'.format(db_user, db_pass, db_host, db_port, db_name)\n",
    "db = create_engine(db_string)"
   ]
  },
  {
   "cell_type": "markdown",
   "id": "614fcdc8",
   "metadata": {},
   "source": [
    "#### 1. How many movies is present within dataset 'ml_latest_small' ?"
   ]
  },
  {
   "cell_type": "code",
   "execution_count": 10,
   "id": "211a8735",
   "metadata": {},
   "outputs": [],
   "source": [
    "def find_movies_nr():\n",
    "    \"\"\"\n",
    "    Aim of this method is to find how many movies is present within dataset 'ml_latest_small'.\n",
    "    As per readme.txt file \"Each line of this file (movies.csv) after the header row represents one movie\"\n",
    "    :return number of movies in dataset, distinct number of titles, repeated titles if exist\n",
    "    \"\"\"\n",
    "    # How many movies are in data set ?\n",
    "    query_titles= \"SELECT count(*) as cnt \"\\\n",
    "                  \"FROM movies\"\n",
    "    nr_movies = pd.read_sql_query(query_titles, db)\n",
    "\n",
    "    # How many distinct titles ?\n",
    "    query_titles= \"SELECT count(distinct m.title) as cnt \" \\\n",
    "                  \"FROM movies m\"\n",
    "    nr_titles = pd.read_sql_query(query_titles, db)\n",
    "\n",
    "    # How many distinct movie IDs ?\n",
    "    query_movie_ids= \"SELECT count(distinct m.movieId) as cnt \"\\\n",
    "                     \"FROM movies m\"\n",
    "    nr_movie_ids = pd.read_sql_query(query_movie_ids, db)\n",
    "\n",
    "    # Check if dataset incorporates any repeated movie titles. If so, which of them are repeated ? \n",
    "    # As per readme.txt : \"Errors and inconsistencies may exist in these titles.\" \n",
    "    repeated_titles_list = None\n",
    "    if nr_movie_ids['cnt'][0] > nr_titles['cnt'][0]:\n",
    "        query_repeated_titles= \"SELECT m.title as title \"\\\n",
    "                               \"FROM movies m \"\\\n",
    "                               \"GROUP BY m.title \"\\\n",
    "                               \"HAVING COUNT(m.title) > 1 ;\"\n",
    "        df_repeated_titles = pd.read_sql_query(query_repeated_titles, db)\n",
    "        repeated_titles_list = df_repeated_titles['title'].tolist()\n",
    "\n",
    "    return nr_movies['cnt'][0], nr_titles['cnt'][0] , repeated_titles_list"
   ]
  },
  {
   "cell_type": "markdown",
   "id": "38742562",
   "metadata": {},
   "source": [
    "#### 1. Result:"
   ]
  },
  {
   "cell_type": "code",
   "execution_count": 11,
   "id": "cd390951",
   "metadata": {},
   "outputs": [
    {
     "name": "stdout",
     "output_type": "stream",
     "text": [
      "Dataset has 9742 movies and 9737 distinct titles. Repeated movie titles are ['Eros (2004)', 'Saturn 3 (1980)', 'Confessions of a Dangerous Mind (2002)', 'Emma (1996)', 'War of the Worlds (2005)']\n"
     ]
    }
   ],
   "source": [
    "print(\"Dataset has {} movies and {} distinct titles. Repeated movie titles are \" \\\n",
    "              \"{}\".format(*find_movies_nr()))"
   ]
  },
  {
   "cell_type": "markdown",
   "id": "19a9c579",
   "metadata": {},
   "source": [
    "#### 2. What is the most common genre of movie?"
   ]
  },
  {
   "cell_type": "code",
   "execution_count": 15,
   "id": "b454b793",
   "metadata": {},
   "outputs": [],
   "source": [
    "def most_common_genre():\n",
    "    \"\"\"\n",
    "    Aim of this method is to find out what is the most common genre of movie?\n",
    "    :return most common genre of movie (string)\n",
    "    \"\"\"\n",
    "\n",
    "    # Fetch movies table to pandas DataFrame\n",
    "    df_movies = pd.read_sql_query(\"SELECT * \"\\\n",
    "                                  \"FROM movies ;\", db)\n",
    "    df_movies.rename(columns=df_movies.iloc[0])\n",
    "\n",
    "    # Split genres column given pipe seperator\n",
    "    split_genres = df_movies.genres.str.split('|')\n",
    "    splitted_df = pd.DataFrame({'genres':split_genres.sum(),'title':df_movies.title.repeat(split_genres.str.len())})\n",
    "\n",
    "    # Calculate which genre is the most common one\n",
    "    common_genre = splitted_df['genres'].value_counts().idxmax()\n",
    "    common_genre_nr = splitted_df['genres'].value_counts()[0]\n",
    "\n",
    "    return common_genre, common_genre_nr"
   ]
  },
  {
   "cell_type": "markdown",
   "id": "85251807",
   "metadata": {},
   "source": [
    "#### 2. Result:"
   ]
  },
  {
   "cell_type": "code",
   "execution_count": 16,
   "id": "706d8710",
   "metadata": {},
   "outputs": [
    {
     "name": "stdout",
     "output_type": "stream",
     "text": [
      "The most common genre is Drama. It appears 4361 times.\n"
     ]
    }
   ],
   "source": [
    "print(\"The most common genre is {}. It appears {} times.\".format(*most_common_genre()))"
   ]
  },
  {
   "cell_type": "markdown",
   "id": "aeba5f8a",
   "metadata": {},
   "source": [
    "#### 3. What are top 10 movies with highest rate ?"
   ]
  },
  {
   "cell_type": "code",
   "execution_count": 7,
   "id": "2d144baf",
   "metadata": {},
   "outputs": [],
   "source": [
    "def top_rated_movies():\n",
    "    \"\"\"\n",
    "    Aim of this method is to verify what are top 10 movies with highest rate ?\n",
    "    :return pandas DataFrame with top 10 rated movies\n",
    "    \"\"\"\n",
    "\n",
    "    query = \"SELECT movies.movieid, title, count \" \\\n",
    "            \"FROM movies \"\\\n",
    "            \"JOIN (SELECT movieid, count(*) AS count \"\\\n",
    "            \"FROM ratings \"\\\n",
    "            \"WHERE rating = 5 \"\\\n",
    "            \"GROUP BY movieid \"\\\n",
    "            \"ORDER BY count \"\\\n",
    "            \"DESC LIMIT 10) t \" \\\n",
    "            \"ON movies.movieid = t.movieid ORDER BY 3 desc ; \"\n",
    "\n",
    "    # Fetch data from sql filtered to top 10 records with highest rate\n",
    "    top_movies_df = pd.read_sql_query(query, db)\n",
    "\n",
    "    return top_movies_df"
   ]
  },
  {
   "cell_type": "markdown",
   "id": "ecbe3cfb",
   "metadata": {},
   "source": [
    "#### 3. Result:"
   ]
  },
  {
   "cell_type": "code",
   "execution_count": 17,
   "id": "b92672f1",
   "metadata": {},
   "outputs": [
    {
     "name": "stdout",
     "output_type": "stream",
     "text": [
      "Top 10 rated movies are:    movieid                                              title  count\n",
      "0      318                   Shawshank Redemption, The (1994)    153\n",
      "1      296                                Pulp Fiction (1994)    123\n",
      "2      356                                Forrest Gump (1994)    116\n",
      "3     2571                                 Matrix, The (1999)    109\n",
      "4      260          Star Wars: Episode IV - A New Hope (1977)    104\n",
      "5      593                   Silence of the Lambs, The (1991)     92\n",
      "6      527                            Schindler's List (1993)     92\n",
      "7      858                              Godfather, The (1972)     88\n",
      "8     2959                                  Fight Club (1999)     81\n",
      "9     1196  Star Wars: Episode V - The Empire Strikes Back...     80\n"
     ]
    }
   ],
   "source": [
    "print(\"Top 10 rated movies are: {}\".format(top_rated_movies()))"
   ]
  },
  {
   "cell_type": "markdown",
   "id": "51463541",
   "metadata": {},
   "source": [
    "#### 4. What are 5 most often rating users ?"
   ]
  },
  {
   "cell_type": "code",
   "execution_count": 8,
   "id": "f8f0cf41",
   "metadata": {},
   "outputs": [],
   "source": [
    "def top_rated_users():\n",
    "    \"\"\"\n",
    "    Aim of this method is to verify what are 5 most often rating users ?\n",
    "    :return df of users that are most often rated together with number of made ratings\n",
    "    \"\"\"\n",
    "    query = \"SELECT r.userId, COUNT(r.userId) AS cnt \"\\\n",
    "            \"FROM ratings r \"\\\n",
    "            \"GROUP BY r.userId \"\\\n",
    "            \"ORDER BY cnt DESC \"\\\n",
    "            \"LIMIT 5;\"\n",
    "    \n",
    "    # Fetch data from ratings table filtered as per requirement\n",
    "    top_users_df = pd.read_sql_query(query, db)\n",
    "\n",
    "    # Extract list of most often rating users\n",
    "    top_users_list = top_users_df['userid'].tolist()\n",
    "\n",
    "    return top_users_df"
   ]
  },
  {
   "cell_type": "markdown",
   "id": "1eb3030c",
   "metadata": {},
   "source": [
    "#### 4. Result:"
   ]
  },
  {
   "cell_type": "code",
   "execution_count": 19,
   "id": "26ea7fa0",
   "metadata": {},
   "outputs": [
    {
     "name": "stdout",
     "output_type": "stream",
     "text": [
      "Top 5 most often rating users:    userid   cnt\n",
      "0     414  2698\n",
      "1     599  2478\n",
      "2     474  2108\n",
      "3     448  1864\n",
      "4     274  1346\n"
     ]
    }
   ],
   "source": [
    "print(\"Top 5 most often rating users: {}\".format(top_rated_users()))"
   ]
  },
  {
   "cell_type": "markdown",
   "id": "150a345b",
   "metadata": {},
   "source": [
    "#### 5. When was done first and last rate included in data set and what was the rated movie tittle?"
   ]
  },
  {
   "cell_type": "code",
   "execution_count": 9,
   "id": "9bd2d182",
   "metadata": {},
   "outputs": [],
   "source": [
    "def run_first_and_last_rate():\n",
    "    \"\"\"\n",
    "    Aim of this method is to find out when was done first and last rate included in data set\n",
    "    and what was the rated movie title?\n",
    "    :return first rate date, firstly rated movie title(s), last rate date, lastly rated movie title(s)\n",
    "    \"\"\"\n",
    "    query = \"SELECT r.timestamp as tmp, m.title, \"\\\n",
    "            \"'min' as level from ratings r \"\\\n",
    "            \"LEFT JOIN movies m on m.movieId=r.movieId \"\\\n",
    "            \"WHERE r.timestamp = (select min(r.timestamp) FROM ratings r) \" \\\n",
    "            \"UNION \"\\\n",
    "            \"SELECT r.timestamp as tmp, m.title, \"\\\n",
    "            \"'max' as level \"\\\n",
    "            \"FROM ratings r \"\\\n",
    "            \"LEFT JOIN movies m on m.movieId=r.movieId \"\\\n",
    "            \"WHERE r.timestamp = (select max(r.timestamp) from ratings r) ;\"  \n",
    "\n",
    "    # Fetch data from db including first and last rate date and corresponding movie title(s)\n",
    "    ratings = pd.read_sql_query(query, db)\n",
    "\n",
    "    # Limit DataFrame to have only rows related first rate date\n",
    "    first_rated_df = ratings.loc[ratings['level'] == 'min']\n",
    "    # Extract first available rate date\n",
    "    first_rate_date = first_rated_df['tmp'][0]\n",
    "    first_rate_date = time.strftime('%Y-%m-%d %H:%M:%S', time.localtime(first_rate_date))\n",
    "    # Extract firstly rated movie title(s)\n",
    "    first_rate_movies = first_rated_df['title'].tolist()\n",
    "\n",
    "    # Limit DataFrame to have only rows related last rate date\n",
    "    last_rated_df = ratings[ratings['level'] == 'max']\n",
    "    # Extract last available rate date\n",
    "    last_rate_date = last_rated_df['tmp'].tolist()[0]\n",
    "    last_rate_date = time.strftime('%Y-%m-%d %H:%M:%S', time.localtime(last_rate_date))\n",
    "    # Extract last rated movie title(s)\n",
    "    last_rate_movies = last_rated_df['title'].tolist()\n",
    "\n",
    "    return first_rate_date, first_rate_movies, last_rate_date, last_rate_movies"
   ]
  },
  {
   "cell_type": "markdown",
   "id": "1665e9f1",
   "metadata": {},
   "source": [
    "#### 5. Result:"
   ]
  },
  {
   "cell_type": "code",
   "execution_count": 20,
   "id": "7ebd72ff",
   "metadata": {},
   "outputs": [
    {
     "name": "stdout",
     "output_type": "stream",
     "text": [
      "First rating was made in 1996-03-29 18:36:55 and associated titles list that was found is ['Aladdin (1992)', 'Apollo 13 (1995)', 'Baby-Sitters Club, The (1995)', 'Batman (1989)', 'Beauty and the Beast (1991)', 'Beverly Hills Cop III (1994)', 'Black Beauty (1994)', 'Boys on the Side (1995)', 'Circle of Friends (1995)', \"City Slickers II: The Legend of Curly's Gold (1994)\", 'Clear and Present Danger (1994)', 'Cliffhanger (1993)', 'Copycat (1995)', 'Corrina, Corrina (1994)', 'Crimson Tide (1995)', 'Dances with Wolves (1990)', 'Die Hard: With a Vengeance (1995)', 'Disclosure (1994)', 'Drop Zone (1994)', 'Englishman Who Went Up a Hill But Came Down a Mountain, The (1995)'], Last rating was made in 2018-09-24 14:27:30 and associated titles list that was found is ['Crumb (1994)']\n"
     ]
    }
   ],
   "source": [
    "print(\"First rating was made in {} and associated titles list that was found is {}, \" \\\n",
    "              \"Last rating was made in {} and associated titles list that was found is {}\". \\\n",
    "              format(*run_first_and_last_rate()))"
   ]
  },
  {
   "cell_type": "markdown",
   "id": "831941c3",
   "metadata": {},
   "source": [
    "#### 6. Find all movies released in 1990"
   ]
  },
  {
   "cell_type": "code",
   "execution_count": 10,
   "id": "38682dab",
   "metadata": {},
   "outputs": [],
   "source": [
    "def movies_per_release_date():\n",
    "    \"\"\"\n",
    "    Aim of this method is to find all movies released in 1990\n",
    "    :return number of movies released in 1990 together with corresponding movie titles\n",
    "    \"\"\"\n",
    "\n",
    "    query = \"SELECT title as title \"\\\n",
    "            \"FROM movies \"\\\n",
    "            \"WHERE title ~* '(1990)';\"\n",
    "\n",
    "    # Fetch movies from db limited to these which have '1990' number within its title\n",
    "    movies_filtered_per_release_date = pd.read_sql_query(query, db)\n",
    "    movies_list = movies_filtered_per_release_date['title'].tolist()\n",
    "\n",
    "    # Filter movies titles that have 1990 year present in parentheses as PostGreSQL omits them\n",
    "    matching_titles = [title for title in movies_list if \"(1990)\" in title]\n",
    "\n",
    "    # Count how many movies were released in 1990\n",
    "    cnt_movies = len(matching_titles)\n",
    "    return cnt_movies, matching_titles"
   ]
  },
  {
   "cell_type": "markdown",
   "id": "b049ff82",
   "metadata": {},
   "source": [
    "#### 6. Result:"
   ]
  },
  {
   "cell_type": "code",
   "execution_count": 21,
   "id": "831397b5",
   "metadata": {},
   "outputs": [
    {
     "name": "stdout",
     "output_type": "stream",
     "text": [
      "Dataset incorporates of 147 movies released in 1990. They are as follows: ['Home Alone (1990)', 'Ghost (1990)', 'Dances with Wolves (1990)', 'Pretty Woman (1990)', 'Days of Thunder (1990)', 'Grifters, The (1990)', 'Tie Me Up! Tie Me Down! (¡Átame!) (1990)', 'Paris Is Burning (1990)', 'Goodfellas (1990)', 'Trust (1990)', 'Rosencrantz and Guildenstern Are Dead (1990)', \"Miller's Crossing (1990)\", 'Femme Nikita, La (Nikita) (1990)', 'Pump Up the Volume (1990)', 'Cyrano de Bergerac (1990)', 'Amityville Curse, The (1990)', 'Die Hard 2 (1990)', 'Young Guns II (1990)', 'Marked for Death (1990)', 'Hunt for Red October, The (1990)', 'King of New York (1990)', 'Metropolitan (1990)', \"Child's Play 2 (1990)\", 'Exorcist III, The (1990)', 'Gremlins 2: The New Batch (1990)', 'Back to the Future Part III (1990)', 'Godfather: Part III, The (1990)', 'Rescuers Down Under, The (1990)', 'NeverEnding Story II: The Next Chapter, The (1990)', 'My Blue Heaven (1990)', 'Sheltering Sky, The (1990)', 'Edward Scissorhands (1990)', 'Tales from the Darkside: The Movie (1990)', 'Heart Condition (1990)', 'Rocky V (1990)', 'Dick Tracy (1990)', 'Arachnophobia (1990)', 'Problem Child (1990)', 'Total Recall (1990)', 'Guardian, The (1990)', 'RoboCop 2 (1990)', 'Bride of Re-Animator (1990)', 'Repossessed (1990)', 'Stanley & Iris (1990)', 'Awakenings (1990)', 'Come See the Paradise (1990)', 'Bonfire of the Vanities (1990)', 'Two Jakes, The (1990)', 'Pacific Heights (1990)', \"Mo' Better Blues (1990)\", 'Teenage Mutant Ninja Turtles (1990)', \"Jacob's Ladder (1990)\", 'Misery (1990)', 'All the Vermeers in New York (1990)', 'Flatliners (1990)', 'Predator 2 (1990)', 'Bird on a Wire (1990)', 'Long Walk Home, The (1990)', 'Hamlet (1990)', 'Hot Spot, The (1990)', 'House Party (1990)', 'Air America (1990)', 'Slumber Party Massacre III (1990)', 'Sorority House Massacre II (1990)', 'Avalon (1990)', 'Mermaids (1990)', 'Navy Seals (1990)', 'Reversal of Fortune (1990)', 'Alice (1990)', 'Lord of the Flies (1990)', 'Another 48 Hrs. (1990)', 'Russia House, The (1990)', 'Joe Versus the Volcano (1990)', 'Taking Care of Business (1990)', 'Three Men and a Little Lady (1990)', 'Cadillac Man (1990)', 'Wild Orchid (1990)', 'Mountains of the Moon (1990)', 'Men at Work (1990)', \"Betsy's Wedding (1990)\", 'Ernest Goes to Jail (1990)', 'Spaced Invaders (1990)', 'Flashback (1990)', \"My Father's Glory (La gloire de mon père) (1990)\", \"My Mother's Castle (Château de ma mère, Le) (1990)\", 'Blue Steel (1990)', 'Miami Blues (1990)', 'Europa Europa (Hitlerjunge Salomon) (1990)', 'Green Card (1990)', \"Akira Kurosawa's Dreams (Dreams) (1990)\", 'Sibling Rivalry (1990)', 'Loose Cannons (1990)', 'I Love You to Death (1990)', 'Tremors (1990)', 'Angel at My Table, An (1990)', \"Handmaid's Tale, The (1990)\", 'Rookie, The (1990)', 'White Hunter, Black Heart (1990)', 'Darkman (1990)', 'Freshman, The (1990)', 'Kindergarten Cop (1990)', 'Mr. Destiny (1990)', 'Presumed Innocent (1990)', 'Quick Change (1990)', 'Revenge (1990)', 'Wild at Heart (1990)', 'Witches, The (1990)', 'Madhouse (1990)', 'Adventures of Ford Fairlane, The (1990)', 'Henry & June (1990)', \"Look Who's Talking Too (1990)\", 'Twister (1990)', 'Nightbreed (1990)', 'Robot Jox (1990)', 'Frankenstein Unbound (1990)', 'Delta Force 2 (Delta Force 2: The Colombian Connection) (1990)', 'Night of the Living Dead (1990)', \"Hairdresser's Husband, The (Le mari de la coiffeuse) (1990)\", 'Book of Love (1990)', 'Memphis Belle (1990)', 'Almost an Angel (1990)', 'Cry-Baby (1990)', 'Bullet in the Head (1990)', 'Ghost Dad (1990)', 'It (1990)', 'Ju Dou (1990)', 'Krays, The (1990)', 'Lionheart (1990)', 'Nuns on the Run (1990)', 'State of Grace (1990)', 'Days of Being Wild (A Fei jingjyuhn) (1990)', 'Begotten (1990)', 'Quigley Down Under (1990)', 'Captain America (1990)', 'Hardware (1990)', 'Match Factory Girl, The (Tulitikkutehtaan tyttö) (1990)', 'Heaven and Earth (Ten to Chi to) (1990)', 'Troll 2 (1990)', 'Civil War, The (1990)', \"Mickey's The Prince and the Pauper (1990)\", \"Dragon Ball Z the Movie: The World's Strongest (a.k.a. Dragon Ball Z: The Strongest Guy in The World) (Doragon bôru Z: Kono yo de ichiban tsuyoi yatsu) (1990)\", 'Dragon Ball Z the Movie: The Tree of Might (Doragon bôru Z 3: Chikyû marugoto chô kessen) (1990)', 'Dragon Ball Z: Bardock - The Father of Goku (Doragon bôru Z: Tatta hitori no saishuu kessen - Furiiza ni itonda Z senshi Kakarotto no chichi) (1990)', 'I Bought a Vampire Motorcycle (1990)', 'Maniac Cop 2 (1990)', 'Jetsons: The Movie (1990)', 'The Forbidden Dance (1990)']\n"
     ]
    }
   ],
   "source": [
    "print(\"Dataset incorporates of {} movies released in 1990. They are as follows: {}\". \\\n",
    "      format(*movies_per_release_date()))"
   ]
  }
 ],
 "metadata": {
  "kernelspec": {
   "display_name": "Python 3",
   "language": "python",
   "name": "python3"
  },
  "language_info": {
   "codemirror_mode": {
    "name": "ipython",
    "version": 3
   },
   "file_extension": ".py",
   "mimetype": "text/x-python",
   "name": "python",
   "nbconvert_exporter": "python",
   "pygments_lexer": "ipython3",
   "version": "3.9.5"
  }
 },
 "nbformat": 4,
 "nbformat_minor": 5
}